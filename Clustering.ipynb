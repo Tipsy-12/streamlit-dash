{
  "nbformat": 4,
  "nbformat_minor": 0,
  "metadata": {
    "colab": {
      "provenance": []
    },
    "kernelspec": {
      "name": "python3",
      "display_name": "Python 3"
    },
    "language_info": {
      "name": "python"
    },
    "widgets": {
      "application/vnd.jupyter.widget-state+json": {
        "609e6c51ff9d4bc6874f56742f9efdcc": {
          "model_module": "@jupyter-widgets/controls",
          "model_name": "HBoxModel",
          "model_module_version": "1.5.0",
          "state": {
            "_dom_classes": [],
            "_model_module": "@jupyter-widgets/controls",
            "_model_module_version": "1.5.0",
            "_model_name": "HBoxModel",
            "_view_count": null,
            "_view_module": "@jupyter-widgets/controls",
            "_view_module_version": "1.5.0",
            "_view_name": "HBoxView",
            "box_style": "",
            "children": [
              "IPY_MODEL_2765b19e74474d08984547c716f1af48",
              "IPY_MODEL_89227e21936b4b7f97f295f8cbee04fd",
              "IPY_MODEL_ee50857849324aa59786c1c67703ce01"
            ],
            "layout": "IPY_MODEL_b9c6df828cda4e969a4a36d4d46619e0"
          }
        },
        "2765b19e74474d08984547c716f1af48": {
          "model_module": "@jupyter-widgets/controls",
          "model_name": "HTMLModel",
          "model_module_version": "1.5.0",
          "state": {
            "_dom_classes": [],
            "_model_module": "@jupyter-widgets/controls",
            "_model_module_version": "1.5.0",
            "_model_name": "HTMLModel",
            "_view_count": null,
            "_view_module": "@jupyter-widgets/controls",
            "_view_module_version": "1.5.0",
            "_view_name": "HTMLView",
            "description": "",
            "description_tooltip": null,
            "layout": "IPY_MODEL_718de9a7bcc649ee80f3dd667baccd4d",
            "placeholder": "​",
            "style": "IPY_MODEL_ddccdc2d86a84e23b3edaf01d73dd191",
            "value": "Batches: 100%"
          }
        },
        "89227e21936b4b7f97f295f8cbee04fd": {
          "model_module": "@jupyter-widgets/controls",
          "model_name": "FloatProgressModel",
          "model_module_version": "1.5.0",
          "state": {
            "_dom_classes": [],
            "_model_module": "@jupyter-widgets/controls",
            "_model_module_version": "1.5.0",
            "_model_name": "FloatProgressModel",
            "_view_count": null,
            "_view_module": "@jupyter-widgets/controls",
            "_view_module_version": "1.5.0",
            "_view_name": "ProgressView",
            "bar_style": "success",
            "description": "",
            "description_tooltip": null,
            "layout": "IPY_MODEL_22fad193529342bdbe06a43757902d03",
            "max": 32,
            "min": 0,
            "orientation": "horizontal",
            "style": "IPY_MODEL_d5a606198bf942938ee0f37d71e101f3",
            "value": 32
          }
        },
        "ee50857849324aa59786c1c67703ce01": {
          "model_module": "@jupyter-widgets/controls",
          "model_name": "HTMLModel",
          "model_module_version": "1.5.0",
          "state": {
            "_dom_classes": [],
            "_model_module": "@jupyter-widgets/controls",
            "_model_module_version": "1.5.0",
            "_model_name": "HTMLModel",
            "_view_count": null,
            "_view_module": "@jupyter-widgets/controls",
            "_view_module_version": "1.5.0",
            "_view_name": "HTMLView",
            "description": "",
            "description_tooltip": null,
            "layout": "IPY_MODEL_774cc6ab709e491ea90f438cf7b83bd0",
            "placeholder": "​",
            "style": "IPY_MODEL_e15326cf7f14451b95fd81453a0f0f5b",
            "value": " 32/32 [00:08&lt;00:00,  4.41it/s]"
          }
        },
        "b9c6df828cda4e969a4a36d4d46619e0": {
          "model_module": "@jupyter-widgets/base",
          "model_name": "LayoutModel",
          "model_module_version": "1.2.0",
          "state": {
            "_model_module": "@jupyter-widgets/base",
            "_model_module_version": "1.2.0",
            "_model_name": "LayoutModel",
            "_view_count": null,
            "_view_module": "@jupyter-widgets/base",
            "_view_module_version": "1.2.0",
            "_view_name": "LayoutView",
            "align_content": null,
            "align_items": null,
            "align_self": null,
            "border": null,
            "bottom": null,
            "display": null,
            "flex": null,
            "flex_flow": null,
            "grid_area": null,
            "grid_auto_columns": null,
            "grid_auto_flow": null,
            "grid_auto_rows": null,
            "grid_column": null,
            "grid_gap": null,
            "grid_row": null,
            "grid_template_areas": null,
            "grid_template_columns": null,
            "grid_template_rows": null,
            "height": null,
            "justify_content": null,
            "justify_items": null,
            "left": null,
            "margin": null,
            "max_height": null,
            "max_width": null,
            "min_height": null,
            "min_width": null,
            "object_fit": null,
            "object_position": null,
            "order": null,
            "overflow": null,
            "overflow_x": null,
            "overflow_y": null,
            "padding": null,
            "right": null,
            "top": null,
            "visibility": null,
            "width": null
          }
        },
        "718de9a7bcc649ee80f3dd667baccd4d": {
          "model_module": "@jupyter-widgets/base",
          "model_name": "LayoutModel",
          "model_module_version": "1.2.0",
          "state": {
            "_model_module": "@jupyter-widgets/base",
            "_model_module_version": "1.2.0",
            "_model_name": "LayoutModel",
            "_view_count": null,
            "_view_module": "@jupyter-widgets/base",
            "_view_module_version": "1.2.0",
            "_view_name": "LayoutView",
            "align_content": null,
            "align_items": null,
            "align_self": null,
            "border": null,
            "bottom": null,
            "display": null,
            "flex": null,
            "flex_flow": null,
            "grid_area": null,
            "grid_auto_columns": null,
            "grid_auto_flow": null,
            "grid_auto_rows": null,
            "grid_column": null,
            "grid_gap": null,
            "grid_row": null,
            "grid_template_areas": null,
            "grid_template_columns": null,
            "grid_template_rows": null,
            "height": null,
            "justify_content": null,
            "justify_items": null,
            "left": null,
            "margin": null,
            "max_height": null,
            "max_width": null,
            "min_height": null,
            "min_width": null,
            "object_fit": null,
            "object_position": null,
            "order": null,
            "overflow": null,
            "overflow_x": null,
            "overflow_y": null,
            "padding": null,
            "right": null,
            "top": null,
            "visibility": null,
            "width": null
          }
        },
        "ddccdc2d86a84e23b3edaf01d73dd191": {
          "model_module": "@jupyter-widgets/controls",
          "model_name": "DescriptionStyleModel",
          "model_module_version": "1.5.0",
          "state": {
            "_model_module": "@jupyter-widgets/controls",
            "_model_module_version": "1.5.0",
            "_model_name": "DescriptionStyleModel",
            "_view_count": null,
            "_view_module": "@jupyter-widgets/base",
            "_view_module_version": "1.2.0",
            "_view_name": "StyleView",
            "description_width": ""
          }
        },
        "22fad193529342bdbe06a43757902d03": {
          "model_module": "@jupyter-widgets/base",
          "model_name": "LayoutModel",
          "model_module_version": "1.2.0",
          "state": {
            "_model_module": "@jupyter-widgets/base",
            "_model_module_version": "1.2.0",
            "_model_name": "LayoutModel",
            "_view_count": null,
            "_view_module": "@jupyter-widgets/base",
            "_view_module_version": "1.2.0",
            "_view_name": "LayoutView",
            "align_content": null,
            "align_items": null,
            "align_self": null,
            "border": null,
            "bottom": null,
            "display": null,
            "flex": null,
            "flex_flow": null,
            "grid_area": null,
            "grid_auto_columns": null,
            "grid_auto_flow": null,
            "grid_auto_rows": null,
            "grid_column": null,
            "grid_gap": null,
            "grid_row": null,
            "grid_template_areas": null,
            "grid_template_columns": null,
            "grid_template_rows": null,
            "height": null,
            "justify_content": null,
            "justify_items": null,
            "left": null,
            "margin": null,
            "max_height": null,
            "max_width": null,
            "min_height": null,
            "min_width": null,
            "object_fit": null,
            "object_position": null,
            "order": null,
            "overflow": null,
            "overflow_x": null,
            "overflow_y": null,
            "padding": null,
            "right": null,
            "top": null,
            "visibility": null,
            "width": null
          }
        },
        "d5a606198bf942938ee0f37d71e101f3": {
          "model_module": "@jupyter-widgets/controls",
          "model_name": "ProgressStyleModel",
          "model_module_version": "1.5.0",
          "state": {
            "_model_module": "@jupyter-widgets/controls",
            "_model_module_version": "1.5.0",
            "_model_name": "ProgressStyleModel",
            "_view_count": null,
            "_view_module": "@jupyter-widgets/base",
            "_view_module_version": "1.2.0",
            "_view_name": "StyleView",
            "bar_color": null,
            "description_width": ""
          }
        },
        "774cc6ab709e491ea90f438cf7b83bd0": {
          "model_module": "@jupyter-widgets/base",
          "model_name": "LayoutModel",
          "model_module_version": "1.2.0",
          "state": {
            "_model_module": "@jupyter-widgets/base",
            "_model_module_version": "1.2.0",
            "_model_name": "LayoutModel",
            "_view_count": null,
            "_view_module": "@jupyter-widgets/base",
            "_view_module_version": "1.2.0",
            "_view_name": "LayoutView",
            "align_content": null,
            "align_items": null,
            "align_self": null,
            "border": null,
            "bottom": null,
            "display": null,
            "flex": null,
            "flex_flow": null,
            "grid_area": null,
            "grid_auto_columns": null,
            "grid_auto_flow": null,
            "grid_auto_rows": null,
            "grid_column": null,
            "grid_gap": null,
            "grid_row": null,
            "grid_template_areas": null,
            "grid_template_columns": null,
            "grid_template_rows": null,
            "height": null,
            "justify_content": null,
            "justify_items": null,
            "left": null,
            "margin": null,
            "max_height": null,
            "max_width": null,
            "min_height": null,
            "min_width": null,
            "object_fit": null,
            "object_position": null,
            "order": null,
            "overflow": null,
            "overflow_x": null,
            "overflow_y": null,
            "padding": null,
            "right": null,
            "top": null,
            "visibility": null,
            "width": null
          }
        },
        "e15326cf7f14451b95fd81453a0f0f5b": {
          "model_module": "@jupyter-widgets/controls",
          "model_name": "DescriptionStyleModel",
          "model_module_version": "1.5.0",
          "state": {
            "_model_module": "@jupyter-widgets/controls",
            "_model_module_version": "1.5.0",
            "_model_name": "DescriptionStyleModel",
            "_view_count": null,
            "_view_module": "@jupyter-widgets/base",
            "_view_module_version": "1.2.0",
            "_view_name": "StyleView",
            "description_width": ""
          }
        }
      }
    }
  },
  "cells": [
    {
      "cell_type": "markdown",
      "source": [
        "#Preparing the dataset for clustering"
      ],
      "metadata": {
        "id": "HV88rZfIE1-o"
      }
    },
    {
      "cell_type": "code",
      "source": [
        "import pandas as pd"
      ],
      "metadata": {
        "id": "68bbT6V5NLtV"
      },
      "execution_count": 18,
      "outputs": []
    },
    {
      "cell_type": "code",
      "source": [
        "def wrangle():\n",
        "  df = pd.read_csv(\"cleaned_dataset.csv\")\n",
        "  #remove high cardinality features\n",
        "  df.drop(columns=[\"name\",\"phone\",\"nationality\",\"city(made-up)\"],inplace=True)\n",
        "  return df"
      ],
      "metadata": {
        "id": "eolfjZwpE4m_"
      },
      "execution_count": 19,
      "outputs": []
    },
    {
      "cell_type": "code",
      "source": [
        "df = wrangle()"
      ],
      "metadata": {
        "id": "RUATCiERNKII"
      },
      "execution_count": 20,
      "outputs": []
    },
    {
      "cell_type": "code",
      "source": [
        "df.info()"
      ],
      "metadata": {
        "colab": {
          "base_uri": "https://localhost:8080/"
        },
        "id": "nvEu-xB7NlAX",
        "outputId": "5bf7151c-ba91-4ea5-e63e-53f609b69c60"
      },
      "execution_count": 21,
      "outputs": [
        {
          "output_type": "stream",
          "name": "stdout",
          "text": [
            "<class 'pandas.core.frame.DataFrame'>\n",
            "RangeIndex: 1000 entries, 0 to 999\n",
            "Data columns (total 16 columns):\n",
            " #   Column                     Non-Null Count  Dtype  \n",
            "---  ------                     --------------  -----  \n",
            " 0   age                        1000 non-null   float64\n",
            " 1   monthly income             1000 non-null   float64\n",
            " 2   ns1                        1000 non-null   object \n",
            " 3   ns2                        1000 non-null   int64  \n",
            " 4   ns3                        1000 non-null   object \n",
            " 5   sb                         1000 non-null   bool   \n",
            " 6   gender                     1000 non-null   object \n",
            " 7   marital status             1000 non-null   object \n",
            " 8   current employment status  1000 non-null   object \n",
            " 9   most recent occupation     1000 non-null   object \n",
            " 10  dbms                       1000 non-null   object \n",
            " 11  visualization tools        1000 non-null   object \n",
            " 12  experience(in years)       1000 non-null   int64  \n",
            " 13  days_since_applying        1000 non-null   float64\n",
            " 14  continent                  1000 non-null   object \n",
            " 15  num_skills                 1000 non-null   int64  \n",
            "dtypes: bool(1), float64(3), int64(3), object(9)\n",
            "memory usage: 118.3+ KB\n"
          ]
        }
      ]
    },
    {
      "cell_type": "markdown",
      "source": [
        "we need to make the most recent occupation column into a low cardinality column"
      ],
      "metadata": {
        "id": "WIGBJpsVOhS9"
      }
    },
    {
      "cell_type": "code",
      "source": [
        "from sentence_transformers import SentenceTransformer\n",
        "\n",
        "model = SentenceTransformer('all-MiniLM-L6-v2')\n",
        "occupation_embeddings = model.encode(df['most recent occupation'], show_progress_bar=True)\n"
      ],
      "metadata": {
        "colab": {
          "base_uri": "https://localhost:8080/",
          "height": 49,
          "referenced_widgets": [
            "609e6c51ff9d4bc6874f56742f9efdcc",
            "2765b19e74474d08984547c716f1af48",
            "89227e21936b4b7f97f295f8cbee04fd",
            "ee50857849324aa59786c1c67703ce01",
            "b9c6df828cda4e969a4a36d4d46619e0",
            "718de9a7bcc649ee80f3dd667baccd4d",
            "ddccdc2d86a84e23b3edaf01d73dd191",
            "22fad193529342bdbe06a43757902d03",
            "d5a606198bf942938ee0f37d71e101f3",
            "774cc6ab709e491ea90f438cf7b83bd0",
            "e15326cf7f14451b95fd81453a0f0f5b"
          ]
        },
        "id": "I_yh5J2lYLxc",
        "outputId": "0e73099e-6ede-40b6-a580-129a800f0979"
      },
      "execution_count": 22,
      "outputs": [
        {
          "output_type": "display_data",
          "data": {
            "text/plain": [
              "Batches:   0%|          | 0/32 [00:00<?, ?it/s]"
            ],
            "application/vnd.jupyter.widget-view+json": {
              "version_major": 2,
              "version_minor": 0,
              "model_id": "609e6c51ff9d4bc6874f56742f9efdcc"
            }
          },
          "metadata": {}
        }
      ]
    },
    {
      "cell_type": "code",
      "source": [
        "from sklearn.cluster import KMeans\n",
        "import matplotlib.pyplot as plt\n",
        "\n",
        "inertias = []\n",
        "k_range = range(2, 11)  # Try 2 to 10 clusters\n",
        "\n",
        "for k in k_range:\n",
        "    km = KMeans(n_clusters=k, random_state=42, n_init='auto')\n",
        "    km.fit(occupation_embeddings)\n",
        "    inertias.append(km.inertia_)\n",
        "\n",
        "plt.plot(k_range, inertias, marker='o')\n",
        "plt.xlabel('Number of clusters')\n",
        "plt.ylabel('Inertia (WCSS)')\n",
        "plt.title('Elbow Method for Optimal k')\n",
        "plt.grid(True)\n",
        "plt.show()\n"
      ],
      "metadata": {
        "colab": {
          "base_uri": "https://localhost:8080/",
          "height": 472
        },
        "id": "-h5xJBQKYTWY",
        "outputId": "9d29d88d-56ec-4c9d-a72b-d509b749d32e"
      },
      "execution_count": 23,
      "outputs": [
        {
          "output_type": "display_data",
          "data": {
            "text/plain": [
              "<Figure size 640x480 with 1 Axes>"
            ],
            "image/png": "[encoded data removed]"
          },
          "metadata": {}
        }
      ]
    },
    {
      "cell_type": "code",
      "source": [
        "from sklearn.metrics import silhouette_score\n",
        "\n",
        "sil_scores = []\n",
        "\n",
        "for k in k_range:\n",
        "    km = KMeans(n_clusters=k, random_state=42, n_init='auto')\n",
        "    labels = km.fit_predict(occupation_embeddings)\n",
        "    sil = silhouette_score(occupation_embeddings, labels)\n",
        "    sil_scores.append(sil)\n",
        "\n",
        "plt.plot(k_range, sil_scores, marker='o')\n",
        "plt.xlabel('Number of clusters')\n",
        "plt.ylabel('Silhouette Score')\n",
        "plt.title('Silhouette Score for k')\n",
        "plt.grid(True)\n",
        "plt.show()\n"
      ],
      "metadata": {
        "colab": {
          "base_uri": "https://localhost:8080/",
          "height": 472
        },
        "id": "PYUYPq3QYa5O",
        "outputId": "c124f7db-d351-4ffc-d18e-0525083da0e0"
      },
      "execution_count": 24,
      "outputs": [
        {
          "output_type": "display_data",
          "data": {
            "text/plain": [
              "<Figure size 640x480 with 1 Axes>"
            ],
            "image/png": "[encoded data removed]"
          },
          "metadata": {}
        }
      ]
    },
    {
      "cell_type": "code",
      "source": [
        "from sklearn.cluster import KMeans\n",
        "\n",
        "kmeans = KMeans(n_clusters=8, random_state=42, n_init='auto')\n",
        "occupation_clusters = kmeans.fit_predict(occupation_embeddings)\n",
        "\n",
        "# Add the cluster labels to your main DataFrame\n",
        "df['occupation_cluster'] = occupation_clusters\n"
      ],
      "metadata": {
        "id": "75gTyP0TZQwv"
      },
      "execution_count": 25,
      "outputs": []
    },
    {
      "cell_type": "code",
      "source": [
        "for cluster_num in sorted(df['occupation_cluster'].unique()):\n",
        "    print(f\"\\nCluster {cluster_num} Sample Titles:\")\n",
        "    print(df[df['occupation_cluster'] == cluster_num]['most recent occupation'].value_counts().head(10))\n"
      ],
      "metadata": {
        "colab": {
          "base_uri": "https://localhost:8080/"
        },
        "id": "qj6UX7-iZT9t",
        "outputId": "275a80df-c7a5-46aa-ce41-e5d8a9faf0cc"
      },
      "execution_count": 26,
      "outputs": [
        {
          "output_type": "stream",
          "name": "stdout",
          "text": [
            "\n",
            "Cluster 0 Sample Titles:\n",
            "most recent occupation\n",
            "Health promotion specialist                    5\n",
            "Education officer, community                   5\n",
            "Secretary/administrator                        5\n",
            "Government social research officer             4\n",
            "Charity officer                                4\n",
            "Armed forces training and education officer    3\n",
            "Higher education lecturer                      3\n",
            "Administrator                                  3\n",
            "Education administrator                        3\n",
            "Archivist                                      3\n",
            "Name: count, dtype: int64\n",
            "\n",
            "Cluster 1 Sample Titles:\n",
            "most recent occupation\n",
            "Materials engineer                      5\n",
            "Computer games developer                5\n",
            "Games developer                         5\n",
            "Programmer, applications                5\n",
            "Ceramics designer                       4\n",
            "Glass blower/designer                   4\n",
            "Web designer                            4\n",
            "Control and instrumentation engineer    4\n",
            "Engineer, mining                        4\n",
            "Engineer, manufacturing systems         4\n",
            "Name: count, dtype: int64\n",
            "\n",
            "Cluster 2 Sample Titles:\n",
            "most recent occupation\n",
            "Commercial/residential surveyor    5\n",
            "Surveyor, minerals                 4\n",
            "Rural practice surveyor            4\n",
            "Building control surveyor          3\n",
            "Surveyor, quantity                 2\n",
            "Insurance risk surveyor            2\n",
            "Claims inspector/assessor          2\n",
            "Surveyor, mining                   2\n",
            "Land/geomatics surveyor            2\n",
            "Hydrographic surveyor              2\n",
            "Name: count, dtype: int64\n",
            "\n",
            "Cluster 3 Sample Titles:\n",
            "most recent occupation\n",
            "Surgeon                     4\n",
            "Animal nutritionist         4\n",
            "Metallurgist                4\n",
            "Biomedical scientist        4\n",
            "Plant breeder/geneticist    4\n",
            "Animal technologist         4\n",
            "Soil scientist              4\n",
            "Scientist, water quality    3\n",
            "Scientist, biomedical       3\n",
            "Wellsite geologist          3\n",
            "Name: count, dtype: int64\n",
            "\n",
            "Cluster 4 Sample Titles:\n",
            "most recent occupation\n",
            "Producer, radio                                  4\n",
            "Magazine features editor                         4\n",
            "Production assistant, radio                      3\n",
            "Producer, television/film/video                  3\n",
            "Programme researcher, broadcasting/film/video    3\n",
            "Presenter, broadcasting                          3\n",
            "Photographer                                     3\n",
            "Multimedia specialist                            3\n",
            "Charity fundraiser                               3\n",
            "Television camera operator                       3\n",
            "Name: count, dtype: int64\n",
            "\n",
            "Cluster 5 Sample Titles:\n",
            "most recent occupation\n",
            "Energy manager                              5\n",
            "Fish farm manager                           5\n",
            "Theatre stage manager                       4\n",
            "Transport planner                           4\n",
            "Geographical information systems officer    4\n",
            "Product manager                             4\n",
            "Office manager                              4\n",
            "Waste management officer                    3\n",
            "Careers adviser                             3\n",
            "Conference centre manager                   3\n",
            "Name: count, dtype: int64\n",
            "\n",
            "Cluster 6 Sample Titles:\n",
            "most recent occupation\n",
            "Gaffer                              6\n",
            "Buyer, retail                       5\n",
            "Retail buyer                        5\n",
            "Lawyer                              4\n",
            "Chartered management accountant     4\n",
            "Dealer                              4\n",
            "Medical sales representative        4\n",
            "Retail merchandiser                 3\n",
            "Accountant, chartered management    3\n",
            "Equities trader                     3\n",
            "Name: count, dtype: int64\n",
            "\n",
            "Cluster 7 Sample Titles:\n",
            "most recent occupation\n",
            "Psychologist, forensic             7\n",
            "Nurse, mental health               5\n",
            "Clinical psychologist              4\n",
            "Psychotherapist, dance movement    4\n",
            "Music therapist                    4\n",
            "Therapist, nutritional             3\n",
            "Therapist, occupational            3\n",
            "Child psychotherapist              3\n",
            "Psychologist, clinical             3\n",
            "Psychiatrist                       3\n",
            "Name: count, dtype: int64\n"
          ]
        }
      ]
    },
    {
      "cell_type": "code",
      "source": [
        "from sklearn.feature_extraction.text import TfidfVectorizer\n",
        "\n",
        "# Use same order as clusters\n",
        "tfidf = TfidfVectorizer(stop_words='english')\n",
        "X_tfidf = tfidf.fit_transform(df['most recent occupation'])\n",
        "\n",
        "# For each cluster, show top words\n",
        "terms = tfidf.get_feature_names_out()\n",
        "for cluster_num in sorted(df['occupation_cluster'].unique()):\n",
        "    idxs = df[df['occupation_cluster'] == cluster_num].index\n",
        "    cluster_mean = X_tfidf[idxs].mean(axis=0)\n",
        "    top_terms = [terms[i] for i in cluster_mean.A1.argsort()[::-1][:10]]\n",
        "    print(f\"\\nCluster {cluster_num} Top Terms: {top_terms}\")\n"
      ],
      "metadata": {
        "colab": {
          "base_uri": "https://localhost:8080/"
        },
        "id": "OithsoADZw3J",
        "outputId": "978fb2cc-b046-4a3e-9fc9-3093e92924c3"
      },
      "execution_count": 27,
      "outputs": [
        {
          "output_type": "stream",
          "name": "stdout",
          "text": [
            "\n",
            "Cluster 0 Top Terms: ['officer', 'administrator', 'education', 'community', 'worker', 'arts', 'research', 'teacher', 'government', 'social']\n",
            "\n",
            "Cluster 1 Top Terms: ['engineer', 'designer', 'developer', 'games', 'systems', 'product', 'materials', 'manufacturing', 'mining', 'applications']\n",
            "\n",
            "Cluster 2 Top Terms: ['surveyor', 'building', 'minerals', 'residential', 'rural', 'commercial', 'practice', 'control', 'insurance', 'quantity']\n",
            "\n",
            "Cluster 3 Top Terms: ['scientist', 'clinical', 'animal', 'biomedical', 'research', 'radiographer', 'medical', 'geneticist', 'technologist', 'doctor']\n",
            "\n",
            "Cluster 4 Top Terms: ['film', 'video', 'broadcasting', 'editor', 'television', 'producer', 'journalist', 'radio', 'copy', 'multimedia']\n",
            "\n",
            "Cluster 5 Top Terms: ['manager', 'centre', 'officer', 'information', 'farm', 'planner', 'conservator', 'energy', 'transport', 'gallery']\n",
            "\n",
            "Cluster 6 Top Terms: ['chartered', 'retail', 'accountant', 'buyer', 'gaffer', 'sales', 'management', 'banker', 'dealer', 'lawyer']\n",
            "\n",
            "Cluster 7 Top Terms: ['psychologist', 'therapist', 'nurse', 'psychotherapist', 'forensic', 'occupational', 'clinical', 'mental', 'music', 'child']\n"
          ]
        }
      ]
    },
    {
      "cell_type": "code",
      "source": [
        "cluster_labels = {\n",
        "    0: 'Community & Admin Services',\n",
        "    1: 'Engineering & Product Dev',\n",
        "    2: 'Surveying & Real Estate',\n",
        "    3: 'Science & Research',\n",
        "    4: 'Media & Creative Arts',\n",
        "    5: 'Planning & Operations',\n",
        "    6: 'Business, Finance & Legal',\n",
        "    7: 'Healthcare & Therapy'\n",
        "}\n",
        "\n",
        "df['occupation_category'] = df['occupation_cluster'].map(cluster_labels)\n"
      ],
      "metadata": {
        "id": "rkL2DuKxaNC4"
      },
      "execution_count": 28,
      "outputs": []
    },
    {
      "cell_type": "code",
      "source": [
        "df.drop(columns=[\"most recent occupation\",\"occupation_cluster\"],inplace=True)"
      ],
      "metadata": {
        "id": "GRVypBuNaUDv"
      },
      "execution_count": 29,
      "outputs": []
    },
    {
      "cell_type": "code",
      "source": [
        "df[\"ns1\"] = df[\"ns1\"].astype(\"object\")\n",
        "\n",
        "numerical_cols = ['age', 'monthly income', 'experience(in years)', 'days_since_applying', 'num_skills']\n",
        "categorical_cols = ['sb','ns1', 'ns2', 'ns3', 'gender', 'marital status', 'current employment status', 'dbms', 'visualization tools', 'continent', 'occupation_category']\n",
        "\n",
        "\n",
        "for col in categorical_cols:\n",
        "\n",
        "      print(df[col].value_counts())\n",
        "      print(\"\\n\")"
      ],
      "metadata": {
        "colab": {
          "base_uri": "https://localhost:8080/"
        },
        "id": "Ie4w1vlbcR0s",
        "outputId": "0676fd47-70a9-4871-ec15-79c23f6a3d4c"
      },
      "execution_count": 30,
      "outputs": [
        {
          "output_type": "stream",
          "name": "stdout",
          "text": [
            "sb\n",
            "True     750\n",
            "False    250\n",
            "Name: count, dtype: int64\n",
            "\n",
            "\n",
            "ns1\n",
            "missing    319\n",
            "b          258\n",
            "a          215\n",
            "c          208\n",
            "Name: count, dtype: int64\n",
            "\n",
            "\n",
            "ns2\n",
            "0    616\n",
            "1    384\n",
            "Name: count, dtype: int64\n",
            "\n",
            "\n",
            "ns3\n",
            "missing    328\n",
            "002        175\n",
            "abc        172\n",
            "003        166\n",
            "001        159\n",
            "Name: count, dtype: int64\n",
            "\n",
            "\n",
            "gender\n",
            "missing    390\n",
            "F          216\n",
            "M          201\n",
            "Other      193\n",
            "Name: count, dtype: int64\n",
            "\n",
            "\n",
            "marital status\n",
            "missing    509\n",
            "single     247\n",
            "married    244\n",
            "Name: count, dtype: int64\n",
            "\n",
            "\n",
            "current employment status\n",
            "missing       385\n",
            "freelancer    231\n",
            "employed      194\n",
            "unemployed    190\n",
            "Name: count, dtype: int64\n",
            "\n",
            "\n",
            "dbms\n",
            "missing    407\n",
            "SQL        206\n",
            "Excel      202\n",
            "Python     185\n",
            "Name: count, dtype: int64\n",
            "\n",
            "\n",
            "visualization tools\n",
            "missing    412\n",
            "R          203\n",
            "PowerBI    195\n",
            "Tableau    190\n",
            "Name: count, dtype: int64\n",
            "\n",
            "\n",
            "continent\n",
            "Asia             214\n",
            "Africa           199\n",
            "Europe           184\n",
            "North America    172\n",
            "Oceania           94\n",
            "Unknown           74\n",
            "South America     58\n",
            "Antarctica         5\n",
            "Name: count, dtype: int64\n",
            "\n",
            "\n",
            "occupation_category\n",
            "Science & Research            184\n",
            "Engineering & Product Dev     179\n",
            "Community & Admin Services    175\n",
            "Business, Finance & Legal     121\n",
            "Planning & Operations         118\n",
            "Media & Creative Arts          96\n",
            "Healthcare & Therapy           91\n",
            "Surveying & Real Estate        36\n",
            "Name: count, dtype: int64\n",
            "\n",
            "\n"
          ]
        }
      ]
    },
    {
      "cell_type": "code",
      "source": [
        "df[\"sb\"] = df[\"sb\"].astype(int)"
      ],
      "metadata": {
        "id": "1amGsjd3gxZ5"
      },
      "execution_count": 31,
      "outputs": []
    },
    {
      "cell_type": "code",
      "source": [
        "from sklearn.pipeline import Pipeline\n",
        "from sklearn.compose import ColumnTransformer\n",
        "from sklearn.preprocessing import OneHotEncoder, StandardScaler\n",
        "from sklearn.cluster import KMeans\n",
        "from sklearn.metrics import silhouette_score\n",
        "\n",
        "# columns that have high cluster value (from our initial EDA)\n",
        "numeric_cols = [ 'monthly income',\"ns2\"]\n",
        "categorical_cols = ['ns1', 'ns3', 'gender', 'marital status', 'current employment status',\n",
        "                    'dbms', 'visualization tools', 'continent', 'occupation_category']\n",
        "\n",
        "# Pipeline for categorical features: OneHotEncoder\n",
        "cat_pipeline = OneHotEncoder(handle_unknown='ignore')\n",
        "\n",
        "# Pipeline for numeric features: StandardScaler\n",
        "num_pipeline = StandardScaler()\n",
        "\n",
        "# Compose preprocessing\n",
        "preprocessor = ColumnTransformer(\n",
        "    transformers=[\n",
        "        ('num', num_pipeline, numeric_cols),\n",
        "        ('cat', cat_pipeline, categorical_cols)\n",
        "    ])\n",
        "\n"
      ],
      "metadata": {
        "id": "IlkL5tTehL-C"
      },
      "execution_count": 32,
      "outputs": []
    },
    {
      "cell_type": "code",
      "source": [
        "X = preprocessor.fit_transform(df)"
      ],
      "metadata": {
        "id": "yPhNLwwViYcu"
      },
      "execution_count": 33,
      "outputs": []
    },
    {
      "cell_type": "code",
      "source": [
        "#Elbow method\n",
        "inertia = []\n",
        "sil_scores = []\n",
        "K = range(2, 16)\n",
        "\n",
        "for k in K:\n",
        "    kmeans = KMeans(n_clusters=k, random_state=42)\n",
        "    kmeans.fit(X)\n",
        "    inertia.append(kmeans.inertia_)\n",
        "    sil_scores.append(silhouette_score(X, kmeans.labels_))\n",
        "\n",
        "# Plotting Elbow\n",
        "plt.figure(figsize=(8,4))\n",
        "\n",
        "plt.subplot(1,2,1)\n",
        "plt.plot(K, inertia, 'bo-')\n",
        "plt.xlabel('Number of clusters')\n",
        "plt.ylabel('Inertia (Sum of squared distances)')\n",
        "plt.title('Elbow Method')\n",
        "\n",
        "# Plotting Silhouette Score\n",
        "plt.subplot(1,2,2)\n",
        "plt.plot(K, sil_scores, 'ro-')\n",
        "plt.xlabel('Number of clusters')\n",
        "plt.ylabel('Silhouette Score')\n",
        "plt.title('Silhouette Analysis')\n",
        "\n",
        "plt.show()"
      ],
      "metadata": {
        "colab": {
          "base_uri": "https://localhost:8080/",
          "height": 410
        },
        "id": "wJ-VdTtfh-VT",
        "outputId": "a77660b7-c717-45ac-9240-523cb3b2f1dd"
      },
      "execution_count": 34,
      "outputs": [
        {
          "output_type": "display_data",
          "data": {
            "text/plain": [
              "<Figure size 800x400 with 2 Axes>"
            ],
            "image/png": "[encoded data removed]"
          },
          "metadata": {}
        }
      ]
    },
    {
      "cell_type": "code",
      "source": [
        "from sklearn.pipeline import Pipeline\n",
        "from sklearn.cluster import KMeans\n",
        "\n",
        "# Create full pipeline including preprocessing + clustering\n",
        "pipeline = Pipeline([\n",
        "    ('preprocessor', preprocessor),\n",
        "    ('kmeans', KMeans(n_clusters=4, random_state=42))\n",
        "])\n",
        "\n",
        "# Fit the pipeline to your data\n",
        "pipeline.fit(df)\n",
        "\n",
        "# Get cluster labels for each row\n",
        "labels = pipeline.named_steps['kmeans'].labels_\n",
        "\n",
        "# You can add these labels back to your original DataFrame if you want\n",
        "df['cluster'] = labels\n"
      ],
      "metadata": {
        "id": "OOqwGRNtjY-j"
      },
      "execution_count": 35,
      "outputs": []
    },
    {
      "cell_type": "code",
      "source": [
        "sil_score = silhouette_score(pipeline[:-1].transform(df), labels)\n",
        "print(f'Silhouette score: {sil_score:.3f}')"
      ],
      "metadata": {
        "colab": {
          "base_uri": "https://localhost:8080/"
        },
        "id": "uuSd6WglETgj",
        "outputId": "d5b94d4b-9911-4e35-dfd9-f4f5e549d965"
      },
      "execution_count": 36,
      "outputs": [
        {
          "output_type": "stream",
          "name": "stdout",
          "text": [
            "Silhouette score: 0.088\n"
          ]
        }
      ]
    },
    {
      "cell_type": "code",
      "source": [
        "df[\"cluster\"].value_counts()"
      ],
      "metadata": {
        "colab": {
          "base_uri": "https://localhost:8080/",
          "height": 241
        },
        "id": "eg1pS4eWjkBg",
        "outputId": "f3e24ce9-3e94-4ae8-9bec-c38e7e860b40"
      },
      "execution_count": 37,
      "outputs": [
        {
          "output_type": "execute_result",
          "data": {
            "text/plain": [
              "cluster\n",
              "2    309\n",
              "3    307\n",
              "0    193\n",
              "1    191\n",
              "Name: count, dtype: int64"
            ],
            "text/html": [
              "<div>\n",
              "<style scoped>\n",
              "    .dataframe tbody tr th:only-of-type {\n",
              "        vertical-align: middle;\n",
              "    }\n",
              "\n",
              "    .dataframe tbody tr th {\n",
              "        vertical-align: top;\n",
              "    }\n",
              "\n",
              "    .dataframe thead th {\n",
              "        text-align: right;\n",
              "    }\n",
              "</style>\n",
              "<table border=\"1\" class=\"dataframe\">\n",
              "  <thead>\n",
              "    <tr style=\"text-align: right;\">\n",
              "      <th></th>\n",
              "      <th>count</th>\n",
              "    </tr>\n",
              "    <tr>\n",
              "      <th>cluster</th>\n",
              "      <th></th>\n",
              "    </tr>\n",
              "  </thead>\n",
              "  <tbody>\n",
              "    <tr>\n",
              "      <th>2</th>\n",
              "      <td>309</td>\n",
              "    </tr>\n",
              "    <tr>\n",
              "      <th>3</th>\n",
              "      <td>307</td>\n",
              "    </tr>\n",
              "    <tr>\n",
              "      <th>0</th>\n",
              "      <td>193</td>\n",
              "    </tr>\n",
              "    <tr>\n",
              "      <th>1</th>\n",
              "      <td>191</td>\n",
              "    </tr>\n",
              "  </tbody>\n",
              "</table>\n",
              "</div><br><label><b>dtype:</b> int64</label>"
            ]
          },
          "metadata": {},
          "execution_count": 37
        }
      ]
    },
    {
      "cell_type": "code",
      "source": [
        "import matplotlib.pyplot as plt\n",
        "from sklearn.decomposition import PCA\n",
        "\n",
        "# Step 1: Transform your data with the preprocessor (same one used in the pipeline)\n",
        "X_processed = preprocessor.transform(df)\n",
        "\n",
        "# Step 2: Apply PCA to reduce dimensions to 2\n",
        "pca = PCA(n_components=2)\n",
        "X_pca = pca.fit_transform(X_processed.toarray() if hasattr(X_processed, \"toarray\") else X_processed)\n",
        "\n",
        "# Step 3: Plot clusters in 2D space\n",
        "plt.figure(figsize=(5,4))\n",
        "scatter = plt.scatter(X_pca[:, 0], X_pca[:, 1], c=df['cluster'], cmap='viridis', alpha=0.6)\n",
        "plt.xlabel('PCA Component 1')\n",
        "plt.ylabel('PCA Component 2')\n",
        "plt.title('KMeans Clusters Visualization (2D PCA)')\n",
        "plt.legend(*scatter.legend_elements(), title=\"Clusters\")\n",
        "plt.show()\n"
      ],
      "metadata": {
        "colab": {
          "base_uri": "https://localhost:8080/",
          "height": 410
        },
        "id": "KCqcphBStB5m",
        "outputId": "f0726380-372d-47a8-cb09-cdd9005c8335"
      },
      "execution_count": 38,
      "outputs": [
        {
          "output_type": "display_data",
          "data": {
            "text/plain": [
              "<Figure size 500x400 with 1 Axes>"
            ],
            "image/png": "[encoded data removed]"
          },
          "metadata": {}
        }
      ]
    },
    {
      "cell_type": "code",
      "source": [
        "df.to_csv(\"clustered_dataset.csv\",index=False)"
      ],
      "metadata": {
        "id": "1gP7rWyfx7y5"
      },
      "execution_count": null,
      "outputs": []
    },
    {
      "cell_type": "code",
      "source": [
        "df.info()"
      ],
      "metadata": {
        "colab": {
          "base_uri": "https://localhost:8080/"
        },
        "id": "jnEz82-wB8Hz",
        "outputId": "5e384c03-ff58-4bed-b437-6b211b96bc0b"
      },
      "execution_count": null,
      "outputs": [
        {
          "output_type": "stream",
          "name": "stdout",
          "text": [
            "<class 'pandas.core.frame.DataFrame'>\n",
            "RangeIndex: 1000 entries, 0 to 999\n",
            "Data columns (total 17 columns):\n",
            " #   Column                     Non-Null Count  Dtype  \n",
            "---  ------                     --------------  -----  \n",
            " 0   age                        1000 non-null   float64\n",
            " 1   monthly income             1000 non-null   float64\n",
            " 2   ns1                        1000 non-null   object \n",
            " 3   ns2                        1000 non-null   int64  \n",
            " 4   ns3                        1000 non-null   object \n",
            " 5   sb                         1000 non-null   int64  \n",
            " 6   gender                     1000 non-null   object \n",
            " 7   marital status             1000 non-null   object \n",
            " 8   current employment status  1000 non-null   object \n",
            " 9   dbms                       1000 non-null   object \n",
            " 10  visualization tools        1000 non-null   object \n",
            " 11  experience(in years)       1000 non-null   int64  \n",
            " 12  days_since_applying        1000 non-null   float64\n",
            " 13  continent                  1000 non-null   object \n",
            " 14  num_skills                 1000 non-null   int64  \n",
            " 15  occupation_category        1000 non-null   object \n",
            " 16  cluster                    1000 non-null   int32  \n",
            "dtypes: float64(3), int32(1), int64(4), object(9)\n",
            "memory usage: 129.0+ KB\n"
          ]
        }
      ]
    }
  ]
}